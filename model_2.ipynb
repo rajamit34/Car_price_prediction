{
 "cells": [
  {
   "cell_type": "code",
   "execution_count": 1,
   "id": "c1f85f7c-a45a-4c8c-81b1-795c6c0856e4",
   "metadata": {},
   "outputs": [],
   "source": [
    "import numpy as np\n",
    "import pandas as pd"
   ]
  },
  {
   "cell_type": "code",
   "execution_count": 2,
   "id": "4b5339d8-39c7-4323-b9eb-5dc8d42068d8",
   "metadata": {},
   "outputs": [
    {
     "data": {
      "text/html": [
       "<div>\n",
       "<style scoped>\n",
       "    .dataframe tbody tr th:only-of-type {\n",
       "        vertical-align: middle;\n",
       "    }\n",
       "\n",
       "    .dataframe tbody tr th {\n",
       "        vertical-align: top;\n",
       "    }\n",
       "\n",
       "    .dataframe thead th {\n",
       "        text-align: right;\n",
       "    }\n",
       "</style>\n",
       "<table border=\"1\" class=\"dataframe\">\n",
       "  <thead>\n",
       "    <tr style=\"text-align: right;\">\n",
       "      <th></th>\n",
       "      <th>symboling</th>\n",
       "      <th>normalized-losses</th>\n",
       "      <th>make</th>\n",
       "      <th>fuel-type</th>\n",
       "      <th>aspiration</th>\n",
       "      <th>num-of-doors</th>\n",
       "      <th>body-style</th>\n",
       "      <th>drive-wheels</th>\n",
       "      <th>engine-location</th>\n",
       "      <th>wheel-base</th>\n",
       "      <th>...</th>\n",
       "      <th>engine-size</th>\n",
       "      <th>fuel-system</th>\n",
       "      <th>bore</th>\n",
       "      <th>stroke</th>\n",
       "      <th>compression-ratio</th>\n",
       "      <th>horsepower</th>\n",
       "      <th>peak-rpm</th>\n",
       "      <th>city-mpg</th>\n",
       "      <th>highway-mpg</th>\n",
       "      <th>price</th>\n",
       "    </tr>\n",
       "  </thead>\n",
       "  <tbody>\n",
       "    <tr>\n",
       "      <th>0</th>\n",
       "      <td>3</td>\n",
       "      <td>NaN</td>\n",
       "      <td>alfa-romero</td>\n",
       "      <td>gas</td>\n",
       "      <td>std</td>\n",
       "      <td>two</td>\n",
       "      <td>convertible</td>\n",
       "      <td>rwd</td>\n",
       "      <td>front</td>\n",
       "      <td>88.6</td>\n",
       "      <td>...</td>\n",
       "      <td>130</td>\n",
       "      <td>mpfi</td>\n",
       "      <td>3.47</td>\n",
       "      <td>2.68</td>\n",
       "      <td>9.0</td>\n",
       "      <td>111.0</td>\n",
       "      <td>5000.0</td>\n",
       "      <td>21</td>\n",
       "      <td>27</td>\n",
       "      <td>13495</td>\n",
       "    </tr>\n",
       "    <tr>\n",
       "      <th>1</th>\n",
       "      <td>3</td>\n",
       "      <td>NaN</td>\n",
       "      <td>alfa-romero</td>\n",
       "      <td>gas</td>\n",
       "      <td>std</td>\n",
       "      <td>two</td>\n",
       "      <td>convertible</td>\n",
       "      <td>rwd</td>\n",
       "      <td>front</td>\n",
       "      <td>88.6</td>\n",
       "      <td>...</td>\n",
       "      <td>130</td>\n",
       "      <td>mpfi</td>\n",
       "      <td>3.47</td>\n",
       "      <td>2.68</td>\n",
       "      <td>9.0</td>\n",
       "      <td>111.0</td>\n",
       "      <td>5000.0</td>\n",
       "      <td>21</td>\n",
       "      <td>27</td>\n",
       "      <td>16500</td>\n",
       "    </tr>\n",
       "    <tr>\n",
       "      <th>2</th>\n",
       "      <td>1</td>\n",
       "      <td>NaN</td>\n",
       "      <td>alfa-romero</td>\n",
       "      <td>gas</td>\n",
       "      <td>std</td>\n",
       "      <td>two</td>\n",
       "      <td>hatchback</td>\n",
       "      <td>rwd</td>\n",
       "      <td>front</td>\n",
       "      <td>94.5</td>\n",
       "      <td>...</td>\n",
       "      <td>152</td>\n",
       "      <td>mpfi</td>\n",
       "      <td>2.68</td>\n",
       "      <td>3.47</td>\n",
       "      <td>9.0</td>\n",
       "      <td>154.0</td>\n",
       "      <td>5000.0</td>\n",
       "      <td>19</td>\n",
       "      <td>26</td>\n",
       "      <td>16500</td>\n",
       "    </tr>\n",
       "    <tr>\n",
       "      <th>3</th>\n",
       "      <td>2</td>\n",
       "      <td>164.0</td>\n",
       "      <td>audi</td>\n",
       "      <td>gas</td>\n",
       "      <td>std</td>\n",
       "      <td>four</td>\n",
       "      <td>sedan</td>\n",
       "      <td>fwd</td>\n",
       "      <td>front</td>\n",
       "      <td>99.8</td>\n",
       "      <td>...</td>\n",
       "      <td>109</td>\n",
       "      <td>mpfi</td>\n",
       "      <td>3.19</td>\n",
       "      <td>3.40</td>\n",
       "      <td>10.0</td>\n",
       "      <td>102.0</td>\n",
       "      <td>5500.0</td>\n",
       "      <td>24</td>\n",
       "      <td>30</td>\n",
       "      <td>13950</td>\n",
       "    </tr>\n",
       "    <tr>\n",
       "      <th>4</th>\n",
       "      <td>2</td>\n",
       "      <td>164.0</td>\n",
       "      <td>audi</td>\n",
       "      <td>gas</td>\n",
       "      <td>std</td>\n",
       "      <td>four</td>\n",
       "      <td>sedan</td>\n",
       "      <td>4wd</td>\n",
       "      <td>front</td>\n",
       "      <td>99.4</td>\n",
       "      <td>...</td>\n",
       "      <td>136</td>\n",
       "      <td>mpfi</td>\n",
       "      <td>3.19</td>\n",
       "      <td>3.40</td>\n",
       "      <td>8.0</td>\n",
       "      <td>115.0</td>\n",
       "      <td>5500.0</td>\n",
       "      <td>18</td>\n",
       "      <td>22</td>\n",
       "      <td>17450</td>\n",
       "    </tr>\n",
       "  </tbody>\n",
       "</table>\n",
       "<p>5 rows × 26 columns</p>\n",
       "</div>"
      ],
      "text/plain": [
       "   symboling  normalized-losses         make fuel-type aspiration  \\\n",
       "0          3                NaN  alfa-romero       gas        std   \n",
       "1          3                NaN  alfa-romero       gas        std   \n",
       "2          1                NaN  alfa-romero       gas        std   \n",
       "3          2              164.0         audi       gas        std   \n",
       "4          2              164.0         audi       gas        std   \n",
       "\n",
       "  num-of-doors   body-style drive-wheels engine-location  wheel-base  ...  \\\n",
       "0          two  convertible          rwd           front        88.6  ...   \n",
       "1          two  convertible          rwd           front        88.6  ...   \n",
       "2          two    hatchback          rwd           front        94.5  ...   \n",
       "3         four        sedan          fwd           front        99.8  ...   \n",
       "4         four        sedan          4wd           front        99.4  ...   \n",
       "\n",
       "   engine-size  fuel-system  bore  stroke compression-ratio horsepower  \\\n",
       "0          130         mpfi  3.47    2.68               9.0      111.0   \n",
       "1          130         mpfi  3.47    2.68               9.0      111.0   \n",
       "2          152         mpfi  2.68    3.47               9.0      154.0   \n",
       "3          109         mpfi  3.19    3.40              10.0      102.0   \n",
       "4          136         mpfi  3.19    3.40               8.0      115.0   \n",
       "\n",
       "   peak-rpm city-mpg  highway-mpg  price  \n",
       "0    5000.0       21           27  13495  \n",
       "1    5000.0       21           27  16500  \n",
       "2    5000.0       19           26  16500  \n",
       "3    5500.0       24           30  13950  \n",
       "4    5500.0       18           22  17450  \n",
       "\n",
       "[5 rows x 26 columns]"
      ]
     },
     "execution_count": 2,
     "metadata": {},
     "output_type": "execute_result"
    }
   ],
   "source": [
    "df=pd.read_csv(\"data.csv\")\n",
    "df.head()"
   ]
  },
  {
   "cell_type": "code",
   "execution_count": 3,
   "id": "8bfcb742-1ac3-46a2-8f07-0b584d8f441f",
   "metadata": {},
   "outputs": [
    {
     "name": "stdout",
     "output_type": "stream",
     "text": [
      "<class 'pandas.core.frame.DataFrame'>\n",
      "RangeIndex: 201 entries, 0 to 200\n",
      "Data columns (total 26 columns):\n",
      " #   Column             Non-Null Count  Dtype  \n",
      "---  ------             --------------  -----  \n",
      " 0   symboling          201 non-null    int64  \n",
      " 1   normalized-losses  164 non-null    float64\n",
      " 2   make               201 non-null    object \n",
      " 3   fuel-type          201 non-null    object \n",
      " 4   aspiration         201 non-null    object \n",
      " 5   num-of-doors       199 non-null    object \n",
      " 6   body-style         201 non-null    object \n",
      " 7   drive-wheels       201 non-null    object \n",
      " 8   engine-location    201 non-null    object \n",
      " 9   wheel-base         201 non-null    float64\n",
      " 10  length             201 non-null    float64\n",
      " 11  width              201 non-null    float64\n",
      " 12  height             201 non-null    float64\n",
      " 13  curb-weight        201 non-null    int64  \n",
      " 14  engine-type        201 non-null    object \n",
      " 15  num-of-cylinders   201 non-null    object \n",
      " 16  engine-size        201 non-null    int64  \n",
      " 17  fuel-system        201 non-null    object \n",
      " 18  bore               197 non-null    float64\n",
      " 19  stroke             197 non-null    float64\n",
      " 20  compression-ratio  201 non-null    float64\n",
      " 21  horsepower         199 non-null    float64\n",
      " 22  peak-rpm           199 non-null    float64\n",
      " 23  city-mpg           201 non-null    int64  \n",
      " 24  highway-mpg        201 non-null    int64  \n",
      " 25  price              201 non-null    int64  \n",
      "dtypes: float64(10), int64(6), object(10)\n",
      "memory usage: 41.0+ KB\n"
     ]
    }
   ],
   "source": [
    "df.info()"
   ]
  },
  {
   "cell_type": "code",
   "execution_count": 4,
   "id": "03396014-f654-492c-9dc4-999dee73ff26",
   "metadata": {},
   "outputs": [],
   "source": [
    "from sklearn.model_selection import train_test_split\n",
    "from sklearn.impute import SimpleImputer\n",
    "from sklearn.preprocessing import OneHotEncoder, StandardScaler\n",
    "from sklearn.compose import ColumnTransformer\n",
    "from sklearn.feature_selection import SelectKBest, f_regression\n",
    "from sklearn.pipeline import Pipeline\n",
    "from sklearn.linear_model import LinearRegression\n",
    "from sklearn import set_config\n",
    "set_config(display='diagram')"
   ]
  },
  {
   "cell_type": "code",
   "execution_count": 5,
   "id": "a825baf0-703e-4c4f-9d5a-5aeaeaea6154",
   "metadata": {},
   "outputs": [],
   "source": [
    "X=df.drop(columns=['price'])\n",
    "y=df['price']"
   ]
  },
  {
   "cell_type": "code",
   "execution_count": 6,
   "id": "32e81838-2baf-4823-8f0a-cb50a86386b6",
   "metadata": {},
   "outputs": [],
   "source": [
    "X_train, X_test, y_train, y_test = train_test_split(X, y, test_size=0.20, random_state=42)"
   ]
  },
  {
   "cell_type": "code",
   "execution_count": 7,
   "id": "b78f36a4-9331-4e38-b87f-f7b801a6080d",
   "metadata": {},
   "outputs": [
    {
     "data": {
      "text/plain": [
       "['symboling',\n",
       " 'normalized-losses',\n",
       " 'wheel-base',\n",
       " 'length',\n",
       " 'width',\n",
       " 'height',\n",
       " 'curb-weight',\n",
       " 'engine-size',\n",
       " 'bore',\n",
       " 'stroke',\n",
       " 'compression-ratio',\n",
       " 'horsepower',\n",
       " 'peak-rpm',\n",
       " 'city-mpg',\n",
       " 'highway-mpg']"
      ]
     },
     "execution_count": 7,
     "metadata": {},
     "output_type": "execute_result"
    }
   ],
   "source": [
    "num_col=[col for col in X_train.columns if X_train[col].dtypes!='object']\n",
    "num_col"
   ]
  },
  {
   "cell_type": "code",
   "execution_count": 8,
   "id": "faf20b9c-0508-4634-ad60-804f4d8a3afa",
   "metadata": {},
   "outputs": [
    {
     "data": {
      "text/plain": [
       "['make',\n",
       " 'fuel-type',\n",
       " 'aspiration',\n",
       " 'num-of-doors',\n",
       " 'body-style',\n",
       " 'drive-wheels',\n",
       " 'engine-location',\n",
       " 'engine-type',\n",
       " 'num-of-cylinders',\n",
       " 'fuel-system']"
      ]
     },
     "execution_count": 8,
     "metadata": {},
     "output_type": "execute_result"
    }
   ],
   "source": [
    "cat_col=[col for col in X_train.columns if X_train[col].dtypes=='object']\n",
    "cat_col"
   ]
  },
  {
   "cell_type": "code",
   "execution_count": 9,
   "id": "a3586421-ffbc-498f-9ed3-461e5be0cbd8",
   "metadata": {},
   "outputs": [],
   "source": [
    "num_pipe = Pipeline([\n",
    "    ('num_imputer', SimpleImputer()),\n",
    "    ('num_scalar', StandardScaler())\n",
    "])\n",
    "\n",
    "cat_pipe = Pipeline([\n",
    "    ('cat_imputer', SimpleImputer(strategy='most_frequent')),\n",
    "    ('cat_ohe', OneHotEncoder(sparse=False, handle_unknown='ignore', drop='first'))\n",
    "])"
   ]
  },
  {
   "cell_type": "code",
   "execution_count": 10,
   "id": "224348a0-3704-469f-adc2-ec5db0a1f28f",
   "metadata": {},
   "outputs": [],
   "source": [
    "col_trf = ColumnTransformer([\n",
    "    ('num_pipe', num_pipe, num_col),\n",
    "    ('cat_pipe', cat_pipe, cat_col)\n",
    "])"
   ]
  },
  {
   "cell_type": "code",
   "execution_count": 11,
   "id": "f05acc0f-9d0c-479a-af87-d71c19221ea0",
   "metadata": {},
   "outputs": [
    {
     "data": {
      "text/plain": [
       "array([[-1.43486011, -0.81257593,  1.75388872, ...,  1.        ,\n",
       "         0.        ,  0.        ],\n",
       "       [-0.61494005, -1.12097163, -0.38295763, ...,  0.        ,\n",
       "         0.        ,  0.        ],\n",
       "       [ 0.20498002,  0.82192126, -0.85781238, ...,  0.        ,\n",
       "         0.        ,  0.        ],\n",
       "       ...,\n",
       "       [ 0.20498002,  0.20512986, -0.72213959, ...,  0.        ,\n",
       "         0.        ,  0.        ],\n",
       "       [ 1.02490008,  0.02009245, -0.24728485, ...,  1.        ,\n",
       "         0.        ,  0.        ],\n",
       "       [ 1.84482014,  2.24054146, -1.26483073, ...,  1.        ,\n",
       "         0.        ,  0.        ]])"
      ]
     },
     "execution_count": 11,
     "metadata": {},
     "output_type": "execute_result"
    }
   ],
   "source": [
    "col_trf.fit_transform(X_train)"
   ]
  },
  {
   "cell_type": "code",
   "execution_count": 12,
   "id": "a1d6a687-9a7f-4b29-b78b-2de30fc92fbb",
   "metadata": {},
   "outputs": [
    {
     "data": {
      "text/plain": [
       "array([[ 1.02490008,  1.43871265, -0.62038501, ...,  0.        ,\n",
       "         0.        ,  0.        ],\n",
       "       [-0.61494005,  0.        ,  0.80417923, ...,  1.        ,\n",
       "         0.        ,  0.        ],\n",
       "       [ 1.02490008,  0.48268599, -2.06190834, ...,  0.        ,\n",
       "         0.        ,  0.        ],\n",
       "       ...,\n",
       "       [ 1.02490008,  0.39016728, -0.06073477, ...,  1.        ,\n",
       "         0.        ,  0.        ],\n",
       "       [ 0.20498002,  1.22283566, -0.97652606, ...,  0.        ,\n",
       "         1.        ,  0.        ],\n",
       "       [ 1.84482014,  0.        , -0.48471222, ...,  0.        ,\n",
       "         1.        ,  0.        ]])"
      ]
     },
     "execution_count": 12,
     "metadata": {},
     "output_type": "execute_result"
    }
   ],
   "source": [
    "col_trf.transform(X_test)"
   ]
  },
  {
   "cell_type": "code",
   "execution_count": 13,
   "id": "dde3cb57-eb63-4b64-b119-32bb5edfea37",
   "metadata": {},
   "outputs": [],
   "source": [
    "final_pipe = Pipeline([\n",
    "    ('col_trf', col_trf),\n",
    "    ('featute_selection', SelectKBest(score_func= f_regression,k=20)),\n",
    "    ('model', LinearRegression())\n",
    "])"
   ]
  },
  {
   "cell_type": "code",
   "execution_count": 14,
   "id": "fd306451-7834-470a-be83-0f39a3083ec6",
   "metadata": {},
   "outputs": [
    {
     "data": {
      "text/html": [
       "<style>#sk-2bfbe8e7-fe9e-4a35-ba82-f1fcd96a847b {color: black;background-color: white;}#sk-2bfbe8e7-fe9e-4a35-ba82-f1fcd96a847b pre{padding: 0;}#sk-2bfbe8e7-fe9e-4a35-ba82-f1fcd96a847b div.sk-toggleable {background-color: white;}#sk-2bfbe8e7-fe9e-4a35-ba82-f1fcd96a847b label.sk-toggleable__label {cursor: pointer;display: block;width: 100%;margin-bottom: 0;padding: 0.3em;box-sizing: border-box;text-align: center;}#sk-2bfbe8e7-fe9e-4a35-ba82-f1fcd96a847b label.sk-toggleable__label-arrow:before {content: \"▸\";float: left;margin-right: 0.25em;color: #696969;}#sk-2bfbe8e7-fe9e-4a35-ba82-f1fcd96a847b label.sk-toggleable__label-arrow:hover:before {color: black;}#sk-2bfbe8e7-fe9e-4a35-ba82-f1fcd96a847b div.sk-estimator:hover label.sk-toggleable__label-arrow:before {color: black;}#sk-2bfbe8e7-fe9e-4a35-ba82-f1fcd96a847b div.sk-toggleable__content {max-height: 0;max-width: 0;overflow: hidden;text-align: left;background-color: #f0f8ff;}#sk-2bfbe8e7-fe9e-4a35-ba82-f1fcd96a847b div.sk-toggleable__content pre {margin: 0.2em;color: black;border-radius: 0.25em;background-color: #f0f8ff;}#sk-2bfbe8e7-fe9e-4a35-ba82-f1fcd96a847b input.sk-toggleable__control:checked~div.sk-toggleable__content {max-height: 200px;max-width: 100%;overflow: auto;}#sk-2bfbe8e7-fe9e-4a35-ba82-f1fcd96a847b input.sk-toggleable__control:checked~label.sk-toggleable__label-arrow:before {content: \"▾\";}#sk-2bfbe8e7-fe9e-4a35-ba82-f1fcd96a847b div.sk-estimator input.sk-toggleable__control:checked~label.sk-toggleable__label {background-color: #d4ebff;}#sk-2bfbe8e7-fe9e-4a35-ba82-f1fcd96a847b div.sk-label input.sk-toggleable__control:checked~label.sk-toggleable__label {background-color: #d4ebff;}#sk-2bfbe8e7-fe9e-4a35-ba82-f1fcd96a847b input.sk-hidden--visually {border: 0;clip: rect(1px 1px 1px 1px);clip: rect(1px, 1px, 1px, 1px);height: 1px;margin: -1px;overflow: hidden;padding: 0;position: absolute;width: 1px;}#sk-2bfbe8e7-fe9e-4a35-ba82-f1fcd96a847b div.sk-estimator {font-family: monospace;background-color: #f0f8ff;border: 1px dotted black;border-radius: 0.25em;box-sizing: border-box;margin-bottom: 0.5em;}#sk-2bfbe8e7-fe9e-4a35-ba82-f1fcd96a847b div.sk-estimator:hover {background-color: #d4ebff;}#sk-2bfbe8e7-fe9e-4a35-ba82-f1fcd96a847b div.sk-parallel-item::after {content: \"\";width: 100%;border-bottom: 1px solid gray;flex-grow: 1;}#sk-2bfbe8e7-fe9e-4a35-ba82-f1fcd96a847b div.sk-label:hover label.sk-toggleable__label {background-color: #d4ebff;}#sk-2bfbe8e7-fe9e-4a35-ba82-f1fcd96a847b div.sk-serial::before {content: \"\";position: absolute;border-left: 1px solid gray;box-sizing: border-box;top: 2em;bottom: 0;left: 50%;}#sk-2bfbe8e7-fe9e-4a35-ba82-f1fcd96a847b div.sk-serial {display: flex;flex-direction: column;align-items: center;background-color: white;padding-right: 0.2em;padding-left: 0.2em;}#sk-2bfbe8e7-fe9e-4a35-ba82-f1fcd96a847b div.sk-item {z-index: 1;}#sk-2bfbe8e7-fe9e-4a35-ba82-f1fcd96a847b div.sk-parallel {display: flex;align-items: stretch;justify-content: center;background-color: white;}#sk-2bfbe8e7-fe9e-4a35-ba82-f1fcd96a847b div.sk-parallel::before {content: \"\";position: absolute;border-left: 1px solid gray;box-sizing: border-box;top: 2em;bottom: 0;left: 50%;}#sk-2bfbe8e7-fe9e-4a35-ba82-f1fcd96a847b div.sk-parallel-item {display: flex;flex-direction: column;position: relative;background-color: white;}#sk-2bfbe8e7-fe9e-4a35-ba82-f1fcd96a847b div.sk-parallel-item:first-child::after {align-self: flex-end;width: 50%;}#sk-2bfbe8e7-fe9e-4a35-ba82-f1fcd96a847b div.sk-parallel-item:last-child::after {align-self: flex-start;width: 50%;}#sk-2bfbe8e7-fe9e-4a35-ba82-f1fcd96a847b div.sk-parallel-item:only-child::after {width: 0;}#sk-2bfbe8e7-fe9e-4a35-ba82-f1fcd96a847b div.sk-dashed-wrapped {border: 1px dashed gray;margin: 0 0.4em 0.5em 0.4em;box-sizing: border-box;padding-bottom: 0.4em;background-color: white;position: relative;}#sk-2bfbe8e7-fe9e-4a35-ba82-f1fcd96a847b div.sk-label label {font-family: monospace;font-weight: bold;background-color: white;display: inline-block;line-height: 1.2em;}#sk-2bfbe8e7-fe9e-4a35-ba82-f1fcd96a847b div.sk-label-container {position: relative;z-index: 2;text-align: center;}#sk-2bfbe8e7-fe9e-4a35-ba82-f1fcd96a847b div.sk-container {/* jupyter's `normalize.less` sets `[hidden] { display: none; }` but bootstrap.min.css set `[hidden] { display: none !important; }` so we also need the `!important` here to be able to override the default hidden behavior on the sphinx rendered scikit-learn.org. See: https://github.com/scikit-learn/scikit-learn/issues/21755 */display: inline-block !important;position: relative;}#sk-2bfbe8e7-fe9e-4a35-ba82-f1fcd96a847b div.sk-text-repr-fallback {display: none;}</style><div id=\"sk-2bfbe8e7-fe9e-4a35-ba82-f1fcd96a847b\" class=\"sk-top-container\"><div class=\"sk-text-repr-fallback\"><pre>Pipeline(steps=[(&#x27;col_trf&#x27;,\n",
       "                 ColumnTransformer(transformers=[(&#x27;num_pipe&#x27;,\n",
       "                                                  Pipeline(steps=[(&#x27;num_imputer&#x27;,\n",
       "                                                                   SimpleImputer()),\n",
       "                                                                  (&#x27;num_scalar&#x27;,\n",
       "                                                                   StandardScaler())]),\n",
       "                                                  [&#x27;symboling&#x27;,\n",
       "                                                   &#x27;normalized-losses&#x27;,\n",
       "                                                   &#x27;wheel-base&#x27;, &#x27;length&#x27;,\n",
       "                                                   &#x27;width&#x27;, &#x27;height&#x27;,\n",
       "                                                   &#x27;curb-weight&#x27;, &#x27;engine-size&#x27;,\n",
       "                                                   &#x27;bore&#x27;, &#x27;stroke&#x27;,\n",
       "                                                   &#x27;compression-ratio&#x27;,\n",
       "                                                   &#x27;horsepower&#x27;, &#x27;peak-rpm&#x27;,\n",
       "                                                   &#x27;city-mpg&#x27;, &#x27;highway-mpg&#x27;]),\n",
       "                                                 (&#x27;cat_pipe...\n",
       "                                                                   SimpleImputer(strategy=&#x27;most_frequent&#x27;)),\n",
       "                                                                  (&#x27;cat_ohe&#x27;,\n",
       "                                                                   OneHotEncoder(drop=&#x27;first&#x27;,\n",
       "                                                                                 handle_unknown=&#x27;ignore&#x27;,\n",
       "                                                                                 sparse=False))]),\n",
       "                                                  [&#x27;make&#x27;, &#x27;fuel-type&#x27;,\n",
       "                                                   &#x27;aspiration&#x27;, &#x27;num-of-doors&#x27;,\n",
       "                                                   &#x27;body-style&#x27;, &#x27;drive-wheels&#x27;,\n",
       "                                                   &#x27;engine-location&#x27;,\n",
       "                                                   &#x27;engine-type&#x27;,\n",
       "                                                   &#x27;num-of-cylinders&#x27;,\n",
       "                                                   &#x27;fuel-system&#x27;])])),\n",
       "                (&#x27;featute_selection&#x27;,\n",
       "                 SelectKBest(k=20,\n",
       "                             score_func=&lt;function f_regression at 0x0000018E92305550&gt;)),\n",
       "                (&#x27;model&#x27;, LinearRegression())])</pre><b>Please rerun this cell to show the HTML repr or trust the notebook.</b></div><div class=\"sk-container\" hidden><div class=\"sk-item sk-dashed-wrapped\"><div class=\"sk-label-container\"><div class=\"sk-label sk-toggleable\"><input class=\"sk-toggleable__control sk-hidden--visually\" id=\"2f64a6c4-4049-45d5-af2b-5cbc8c9f8f05\" type=\"checkbox\" ><label for=\"2f64a6c4-4049-45d5-af2b-5cbc8c9f8f05\" class=\"sk-toggleable__label sk-toggleable__label-arrow\">Pipeline</label><div class=\"sk-toggleable__content\"><pre>Pipeline(steps=[(&#x27;col_trf&#x27;,\n",
       "                 ColumnTransformer(transformers=[(&#x27;num_pipe&#x27;,\n",
       "                                                  Pipeline(steps=[(&#x27;num_imputer&#x27;,\n",
       "                                                                   SimpleImputer()),\n",
       "                                                                  (&#x27;num_scalar&#x27;,\n",
       "                                                                   StandardScaler())]),\n",
       "                                                  [&#x27;symboling&#x27;,\n",
       "                                                   &#x27;normalized-losses&#x27;,\n",
       "                                                   &#x27;wheel-base&#x27;, &#x27;length&#x27;,\n",
       "                                                   &#x27;width&#x27;, &#x27;height&#x27;,\n",
       "                                                   &#x27;curb-weight&#x27;, &#x27;engine-size&#x27;,\n",
       "                                                   &#x27;bore&#x27;, &#x27;stroke&#x27;,\n",
       "                                                   &#x27;compression-ratio&#x27;,\n",
       "                                                   &#x27;horsepower&#x27;, &#x27;peak-rpm&#x27;,\n",
       "                                                   &#x27;city-mpg&#x27;, &#x27;highway-mpg&#x27;]),\n",
       "                                                 (&#x27;cat_pipe...\n",
       "                                                                   SimpleImputer(strategy=&#x27;most_frequent&#x27;)),\n",
       "                                                                  (&#x27;cat_ohe&#x27;,\n",
       "                                                                   OneHotEncoder(drop=&#x27;first&#x27;,\n",
       "                                                                                 handle_unknown=&#x27;ignore&#x27;,\n",
       "                                                                                 sparse=False))]),\n",
       "                                                  [&#x27;make&#x27;, &#x27;fuel-type&#x27;,\n",
       "                                                   &#x27;aspiration&#x27;, &#x27;num-of-doors&#x27;,\n",
       "                                                   &#x27;body-style&#x27;, &#x27;drive-wheels&#x27;,\n",
       "                                                   &#x27;engine-location&#x27;,\n",
       "                                                   &#x27;engine-type&#x27;,\n",
       "                                                   &#x27;num-of-cylinders&#x27;,\n",
       "                                                   &#x27;fuel-system&#x27;])])),\n",
       "                (&#x27;featute_selection&#x27;,\n",
       "                 SelectKBest(k=20,\n",
       "                             score_func=&lt;function f_regression at 0x0000018E92305550&gt;)),\n",
       "                (&#x27;model&#x27;, LinearRegression())])</pre></div></div></div><div class=\"sk-serial\"><div class=\"sk-item sk-dashed-wrapped\"><div class=\"sk-label-container\"><div class=\"sk-label sk-toggleable\"><input class=\"sk-toggleable__control sk-hidden--visually\" id=\"4363eeee-20b5-4aa4-9cd8-64f8bae52777\" type=\"checkbox\" ><label for=\"4363eeee-20b5-4aa4-9cd8-64f8bae52777\" class=\"sk-toggleable__label sk-toggleable__label-arrow\">col_trf: ColumnTransformer</label><div class=\"sk-toggleable__content\"><pre>ColumnTransformer(transformers=[(&#x27;num_pipe&#x27;,\n",
       "                                 Pipeline(steps=[(&#x27;num_imputer&#x27;,\n",
       "                                                  SimpleImputer()),\n",
       "                                                 (&#x27;num_scalar&#x27;,\n",
       "                                                  StandardScaler())]),\n",
       "                                 [&#x27;symboling&#x27;, &#x27;normalized-losses&#x27;,\n",
       "                                  &#x27;wheel-base&#x27;, &#x27;length&#x27;, &#x27;width&#x27;, &#x27;height&#x27;,\n",
       "                                  &#x27;curb-weight&#x27;, &#x27;engine-size&#x27;, &#x27;bore&#x27;,\n",
       "                                  &#x27;stroke&#x27;, &#x27;compression-ratio&#x27;, &#x27;horsepower&#x27;,\n",
       "                                  &#x27;peak-rpm&#x27;, &#x27;city-mpg&#x27;, &#x27;highway-mpg&#x27;]),\n",
       "                                (&#x27;cat_pipe&#x27;,\n",
       "                                 Pipeline(steps=[(&#x27;cat_imputer&#x27;,\n",
       "                                                  SimpleImputer(strategy=&#x27;most_frequent&#x27;)),\n",
       "                                                 (&#x27;cat_ohe&#x27;,\n",
       "                                                  OneHotEncoder(drop=&#x27;first&#x27;,\n",
       "                                                                handle_unknown=&#x27;ignore&#x27;,\n",
       "                                                                sparse=False))]),\n",
       "                                 [&#x27;make&#x27;, &#x27;fuel-type&#x27;, &#x27;aspiration&#x27;,\n",
       "                                  &#x27;num-of-doors&#x27;, &#x27;body-style&#x27;, &#x27;drive-wheels&#x27;,\n",
       "                                  &#x27;engine-location&#x27;, &#x27;engine-type&#x27;,\n",
       "                                  &#x27;num-of-cylinders&#x27;, &#x27;fuel-system&#x27;])])</pre></div></div></div><div class=\"sk-parallel\"><div class=\"sk-parallel-item\"><div class=\"sk-item\"><div class=\"sk-label-container\"><div class=\"sk-label sk-toggleable\"><input class=\"sk-toggleable__control sk-hidden--visually\" id=\"4e179a4b-6a70-4bcb-b9e4-0b0452d051f0\" type=\"checkbox\" ><label for=\"4e179a4b-6a70-4bcb-b9e4-0b0452d051f0\" class=\"sk-toggleable__label sk-toggleable__label-arrow\">num_pipe</label><div class=\"sk-toggleable__content\"><pre>[&#x27;symboling&#x27;, &#x27;normalized-losses&#x27;, &#x27;wheel-base&#x27;, &#x27;length&#x27;, &#x27;width&#x27;, &#x27;height&#x27;, &#x27;curb-weight&#x27;, &#x27;engine-size&#x27;, &#x27;bore&#x27;, &#x27;stroke&#x27;, &#x27;compression-ratio&#x27;, &#x27;horsepower&#x27;, &#x27;peak-rpm&#x27;, &#x27;city-mpg&#x27;, &#x27;highway-mpg&#x27;]</pre></div></div></div><div class=\"sk-serial\"><div class=\"sk-item\"><div class=\"sk-serial\"><div class=\"sk-item\"><div class=\"sk-estimator sk-toggleable\"><input class=\"sk-toggleable__control sk-hidden--visually\" id=\"d99eec7c-1fba-406e-afec-48cf81b3bfb8\" type=\"checkbox\" ><label for=\"d99eec7c-1fba-406e-afec-48cf81b3bfb8\" class=\"sk-toggleable__label sk-toggleable__label-arrow\">SimpleImputer</label><div class=\"sk-toggleable__content\"><pre>SimpleImputer()</pre></div></div></div><div class=\"sk-item\"><div class=\"sk-estimator sk-toggleable\"><input class=\"sk-toggleable__control sk-hidden--visually\" id=\"796a1779-9ee1-4fe7-8725-755ded177cfa\" type=\"checkbox\" ><label for=\"796a1779-9ee1-4fe7-8725-755ded177cfa\" class=\"sk-toggleable__label sk-toggleable__label-arrow\">StandardScaler</label><div class=\"sk-toggleable__content\"><pre>StandardScaler()</pre></div></div></div></div></div></div></div></div><div class=\"sk-parallel-item\"><div class=\"sk-item\"><div class=\"sk-label-container\"><div class=\"sk-label sk-toggleable\"><input class=\"sk-toggleable__control sk-hidden--visually\" id=\"7bb9df0a-8cae-4434-bfaf-deedbc47f2c0\" type=\"checkbox\" ><label for=\"7bb9df0a-8cae-4434-bfaf-deedbc47f2c0\" class=\"sk-toggleable__label sk-toggleable__label-arrow\">cat_pipe</label><div class=\"sk-toggleable__content\"><pre>[&#x27;make&#x27;, &#x27;fuel-type&#x27;, &#x27;aspiration&#x27;, &#x27;num-of-doors&#x27;, &#x27;body-style&#x27;, &#x27;drive-wheels&#x27;, &#x27;engine-location&#x27;, &#x27;engine-type&#x27;, &#x27;num-of-cylinders&#x27;, &#x27;fuel-system&#x27;]</pre></div></div></div><div class=\"sk-serial\"><div class=\"sk-item\"><div class=\"sk-serial\"><div class=\"sk-item\"><div class=\"sk-estimator sk-toggleable\"><input class=\"sk-toggleable__control sk-hidden--visually\" id=\"51c9e3ea-fe44-4409-9839-dab435e79127\" type=\"checkbox\" ><label for=\"51c9e3ea-fe44-4409-9839-dab435e79127\" class=\"sk-toggleable__label sk-toggleable__label-arrow\">SimpleImputer</label><div class=\"sk-toggleable__content\"><pre>SimpleImputer(strategy=&#x27;most_frequent&#x27;)</pre></div></div></div><div class=\"sk-item\"><div class=\"sk-estimator sk-toggleable\"><input class=\"sk-toggleable__control sk-hidden--visually\" id=\"482042b8-6c70-4821-9e60-dab0b3ed4291\" type=\"checkbox\" ><label for=\"482042b8-6c70-4821-9e60-dab0b3ed4291\" class=\"sk-toggleable__label sk-toggleable__label-arrow\">OneHotEncoder</label><div class=\"sk-toggleable__content\"><pre>OneHotEncoder(drop=&#x27;first&#x27;, handle_unknown=&#x27;ignore&#x27;, sparse=False)</pre></div></div></div></div></div></div></div></div></div></div><div class=\"sk-item\"><div class=\"sk-estimator sk-toggleable\"><input class=\"sk-toggleable__control sk-hidden--visually\" id=\"b31df93c-1fea-46fe-a17f-d7ca1dea428a\" type=\"checkbox\" ><label for=\"b31df93c-1fea-46fe-a17f-d7ca1dea428a\" class=\"sk-toggleable__label sk-toggleable__label-arrow\">SelectKBest</label><div class=\"sk-toggleable__content\"><pre>SelectKBest(k=20, score_func=&lt;function f_regression at 0x0000018E92305550&gt;)</pre></div></div></div><div class=\"sk-item\"><div class=\"sk-estimator sk-toggleable\"><input class=\"sk-toggleable__control sk-hidden--visually\" id=\"541002f9-1e45-4710-b5c9-638f71e17f70\" type=\"checkbox\" ><label for=\"541002f9-1e45-4710-b5c9-638f71e17f70\" class=\"sk-toggleable__label sk-toggleable__label-arrow\">LinearRegression</label><div class=\"sk-toggleable__content\"><pre>LinearRegression()</pre></div></div></div></div></div></div></div>"
      ],
      "text/plain": [
       "Pipeline(steps=[('col_trf',\n",
       "                 ColumnTransformer(transformers=[('num_pipe',\n",
       "                                                  Pipeline(steps=[('num_imputer',\n",
       "                                                                   SimpleImputer()),\n",
       "                                                                  ('num_scalar',\n",
       "                                                                   StandardScaler())]),\n",
       "                                                  ['symboling',\n",
       "                                                   'normalized-losses',\n",
       "                                                   'wheel-base', 'length',\n",
       "                                                   'width', 'height',\n",
       "                                                   'curb-weight', 'engine-size',\n",
       "                                                   'bore', 'stroke',\n",
       "                                                   'compression-ratio',\n",
       "                                                   'horsepower', 'peak-rpm',\n",
       "                                                   'city-mpg', 'highway-mpg']),\n",
       "                                                 ('cat_pipe...\n",
       "                                                                   SimpleImputer(strategy='most_frequent')),\n",
       "                                                                  ('cat_ohe',\n",
       "                                                                   OneHotEncoder(drop='first',\n",
       "                                                                                 handle_unknown='ignore',\n",
       "                                                                                 sparse=False))]),\n",
       "                                                  ['make', 'fuel-type',\n",
       "                                                   'aspiration', 'num-of-doors',\n",
       "                                                   'body-style', 'drive-wheels',\n",
       "                                                   'engine-location',\n",
       "                                                   'engine-type',\n",
       "                                                   'num-of-cylinders',\n",
       "                                                   'fuel-system'])])),\n",
       "                ('featute_selection',\n",
       "                 SelectKBest(k=20,\n",
       "                             score_func=<function f_regression at 0x0000018E92305550>)),\n",
       "                ('model', LinearRegression())])"
      ]
     },
     "execution_count": 14,
     "metadata": {},
     "output_type": "execute_result"
    }
   ],
   "source": [
    "final_pipe.fit(X_train, y_train)"
   ]
  },
  {
   "cell_type": "code",
   "execution_count": 15,
   "id": "4ed5c360-c79c-4c4b-b05b-868c828d57f6",
   "metadata": {},
   "outputs": [
    {
     "data": {
      "text/plain": [
       "array([ 7488.59068329, 26339.1001639 ,  6973.43634597,  7036.07170102,\n",
       "       12358.81462386,  5743.81376925, 32265.2532727 , 11779.76415726,\n",
       "       22633.24368798, 31967.00592027, 32690.0149026 ,  8014.19411475,\n",
       "       15532.48574246,  9961.60384855, 16772.50697077,  8363.02572305,\n",
       "       10258.85221606,  7237.72212237,  9999.90237565, 33889.01648987,\n",
       "       24535.54271028, 28180.78289322,  6352.70269476,  6471.25989654,\n",
       "       32158.21705018,  9957.75800186, 10790.21946008, 33127.72738179,\n",
       "       23663.64581235, 13964.13053002, 12204.5964074 ,  5914.8743886 ,\n",
       "       15022.21848264,  6977.42411106,  7464.69206913, 15089.48083978,\n",
       "        6254.34422109,  7613.63118899, 16427.83491109,  8347.22173727,\n",
       "       14701.8074328 ])"
      ]
     },
     "execution_count": 15,
     "metadata": {},
     "output_type": "execute_result"
    }
   ],
   "source": [
    "final_pipe.predict(X_test)"
   ]
  },
  {
   "cell_type": "code",
   "execution_count": 16,
   "id": "fe48af44-2237-48fe-a74d-516d61b75a06",
   "metadata": {},
   "outputs": [
    {
     "data": {
      "text/plain": [
       "0.832302662114066"
      ]
     },
     "execution_count": 16,
     "metadata": {},
     "output_type": "execute_result"
    }
   ],
   "source": [
    "final_pipe.score(X_test, y_test)"
   ]
  },
  {
   "cell_type": "code",
   "execution_count": 17,
   "id": "3ff09046-f594-4b6c-b9e5-ce6fb2f79a49",
   "metadata": {},
   "outputs": [],
   "source": [
    "final_pipe_1 = Pipeline([\n",
    "    ('col_trf', col_trf),\n",
    "    ('featute_selection', SelectKBest(score_func= f_regression,k=\"all\")),\n",
    "    ('model', LinearRegression())\n",
    "])"
   ]
  },
  {
   "cell_type": "code",
   "execution_count": 18,
   "id": "af3e71c2-ecc7-40da-9455-35a0217a2961",
   "metadata": {},
   "outputs": [
    {
     "data": {
      "text/html": [
       "<style>#sk-3025c7b4-21b8-4df0-b29e-d95e936f455d {color: black;background-color: white;}#sk-3025c7b4-21b8-4df0-b29e-d95e936f455d pre{padding: 0;}#sk-3025c7b4-21b8-4df0-b29e-d95e936f455d div.sk-toggleable {background-color: white;}#sk-3025c7b4-21b8-4df0-b29e-d95e936f455d label.sk-toggleable__label {cursor: pointer;display: block;width: 100%;margin-bottom: 0;padding: 0.3em;box-sizing: border-box;text-align: center;}#sk-3025c7b4-21b8-4df0-b29e-d95e936f455d label.sk-toggleable__label-arrow:before {content: \"▸\";float: left;margin-right: 0.25em;color: #696969;}#sk-3025c7b4-21b8-4df0-b29e-d95e936f455d label.sk-toggleable__label-arrow:hover:before {color: black;}#sk-3025c7b4-21b8-4df0-b29e-d95e936f455d div.sk-estimator:hover label.sk-toggleable__label-arrow:before {color: black;}#sk-3025c7b4-21b8-4df0-b29e-d95e936f455d div.sk-toggleable__content {max-height: 0;max-width: 0;overflow: hidden;text-align: left;background-color: #f0f8ff;}#sk-3025c7b4-21b8-4df0-b29e-d95e936f455d div.sk-toggleable__content pre {margin: 0.2em;color: black;border-radius: 0.25em;background-color: #f0f8ff;}#sk-3025c7b4-21b8-4df0-b29e-d95e936f455d input.sk-toggleable__control:checked~div.sk-toggleable__content {max-height: 200px;max-width: 100%;overflow: auto;}#sk-3025c7b4-21b8-4df0-b29e-d95e936f455d input.sk-toggleable__control:checked~label.sk-toggleable__label-arrow:before {content: \"▾\";}#sk-3025c7b4-21b8-4df0-b29e-d95e936f455d div.sk-estimator input.sk-toggleable__control:checked~label.sk-toggleable__label {background-color: #d4ebff;}#sk-3025c7b4-21b8-4df0-b29e-d95e936f455d div.sk-label input.sk-toggleable__control:checked~label.sk-toggleable__label {background-color: #d4ebff;}#sk-3025c7b4-21b8-4df0-b29e-d95e936f455d input.sk-hidden--visually {border: 0;clip: rect(1px 1px 1px 1px);clip: rect(1px, 1px, 1px, 1px);height: 1px;margin: -1px;overflow: hidden;padding: 0;position: absolute;width: 1px;}#sk-3025c7b4-21b8-4df0-b29e-d95e936f455d div.sk-estimator {font-family: monospace;background-color: #f0f8ff;border: 1px dotted black;border-radius: 0.25em;box-sizing: border-box;margin-bottom: 0.5em;}#sk-3025c7b4-21b8-4df0-b29e-d95e936f455d div.sk-estimator:hover {background-color: #d4ebff;}#sk-3025c7b4-21b8-4df0-b29e-d95e936f455d div.sk-parallel-item::after {content: \"\";width: 100%;border-bottom: 1px solid gray;flex-grow: 1;}#sk-3025c7b4-21b8-4df0-b29e-d95e936f455d div.sk-label:hover label.sk-toggleable__label {background-color: #d4ebff;}#sk-3025c7b4-21b8-4df0-b29e-d95e936f455d div.sk-serial::before {content: \"\";position: absolute;border-left: 1px solid gray;box-sizing: border-box;top: 2em;bottom: 0;left: 50%;}#sk-3025c7b4-21b8-4df0-b29e-d95e936f455d div.sk-serial {display: flex;flex-direction: column;align-items: center;background-color: white;padding-right: 0.2em;padding-left: 0.2em;}#sk-3025c7b4-21b8-4df0-b29e-d95e936f455d div.sk-item {z-index: 1;}#sk-3025c7b4-21b8-4df0-b29e-d95e936f455d div.sk-parallel {display: flex;align-items: stretch;justify-content: center;background-color: white;}#sk-3025c7b4-21b8-4df0-b29e-d95e936f455d div.sk-parallel::before {content: \"\";position: absolute;border-left: 1px solid gray;box-sizing: border-box;top: 2em;bottom: 0;left: 50%;}#sk-3025c7b4-21b8-4df0-b29e-d95e936f455d div.sk-parallel-item {display: flex;flex-direction: column;position: relative;background-color: white;}#sk-3025c7b4-21b8-4df0-b29e-d95e936f455d div.sk-parallel-item:first-child::after {align-self: flex-end;width: 50%;}#sk-3025c7b4-21b8-4df0-b29e-d95e936f455d div.sk-parallel-item:last-child::after {align-self: flex-start;width: 50%;}#sk-3025c7b4-21b8-4df0-b29e-d95e936f455d div.sk-parallel-item:only-child::after {width: 0;}#sk-3025c7b4-21b8-4df0-b29e-d95e936f455d div.sk-dashed-wrapped {border: 1px dashed gray;margin: 0 0.4em 0.5em 0.4em;box-sizing: border-box;padding-bottom: 0.4em;background-color: white;position: relative;}#sk-3025c7b4-21b8-4df0-b29e-d95e936f455d div.sk-label label {font-family: monospace;font-weight: bold;background-color: white;display: inline-block;line-height: 1.2em;}#sk-3025c7b4-21b8-4df0-b29e-d95e936f455d div.sk-label-container {position: relative;z-index: 2;text-align: center;}#sk-3025c7b4-21b8-4df0-b29e-d95e936f455d div.sk-container {/* jupyter's `normalize.less` sets `[hidden] { display: none; }` but bootstrap.min.css set `[hidden] { display: none !important; }` so we also need the `!important` here to be able to override the default hidden behavior on the sphinx rendered scikit-learn.org. See: https://github.com/scikit-learn/scikit-learn/issues/21755 */display: inline-block !important;position: relative;}#sk-3025c7b4-21b8-4df0-b29e-d95e936f455d div.sk-text-repr-fallback {display: none;}</style><div id=\"sk-3025c7b4-21b8-4df0-b29e-d95e936f455d\" class=\"sk-top-container\"><div class=\"sk-text-repr-fallback\"><pre>Pipeline(steps=[(&#x27;col_trf&#x27;,\n",
       "                 ColumnTransformer(transformers=[(&#x27;num_pipe&#x27;,\n",
       "                                                  Pipeline(steps=[(&#x27;num_imputer&#x27;,\n",
       "                                                                   SimpleImputer()),\n",
       "                                                                  (&#x27;num_scalar&#x27;,\n",
       "                                                                   StandardScaler())]),\n",
       "                                                  [&#x27;symboling&#x27;,\n",
       "                                                   &#x27;normalized-losses&#x27;,\n",
       "                                                   &#x27;wheel-base&#x27;, &#x27;length&#x27;,\n",
       "                                                   &#x27;width&#x27;, &#x27;height&#x27;,\n",
       "                                                   &#x27;curb-weight&#x27;, &#x27;engine-size&#x27;,\n",
       "                                                   &#x27;bore&#x27;, &#x27;stroke&#x27;,\n",
       "                                                   &#x27;compression-ratio&#x27;,\n",
       "                                                   &#x27;horsepower&#x27;, &#x27;peak-rpm&#x27;,\n",
       "                                                   &#x27;city-mpg&#x27;, &#x27;highway-mpg&#x27;]),\n",
       "                                                 (&#x27;cat_pipe...\n",
       "                                                                  (&#x27;cat_ohe&#x27;,\n",
       "                                                                   OneHotEncoder(drop=&#x27;first&#x27;,\n",
       "                                                                                 handle_unknown=&#x27;ignore&#x27;,\n",
       "                                                                                 sparse=False))]),\n",
       "                                                  [&#x27;make&#x27;, &#x27;fuel-type&#x27;,\n",
       "                                                   &#x27;aspiration&#x27;, &#x27;num-of-doors&#x27;,\n",
       "                                                   &#x27;body-style&#x27;, &#x27;drive-wheels&#x27;,\n",
       "                                                   &#x27;engine-location&#x27;,\n",
       "                                                   &#x27;engine-type&#x27;,\n",
       "                                                   &#x27;num-of-cylinders&#x27;,\n",
       "                                                   &#x27;fuel-system&#x27;])])),\n",
       "                (&#x27;featute_selection&#x27;,\n",
       "                 SelectKBest(k=&#x27;all&#x27;,\n",
       "                             score_func=&lt;function f_regression at 0x0000018E92305550&gt;)),\n",
       "                (&#x27;model&#x27;, LinearRegression())])</pre><b>Please rerun this cell to show the HTML repr or trust the notebook.</b></div><div class=\"sk-container\" hidden><div class=\"sk-item sk-dashed-wrapped\"><div class=\"sk-label-container\"><div class=\"sk-label sk-toggleable\"><input class=\"sk-toggleable__control sk-hidden--visually\" id=\"39062926-1453-4407-94b4-59623a85b818\" type=\"checkbox\" ><label for=\"39062926-1453-4407-94b4-59623a85b818\" class=\"sk-toggleable__label sk-toggleable__label-arrow\">Pipeline</label><div class=\"sk-toggleable__content\"><pre>Pipeline(steps=[(&#x27;col_trf&#x27;,\n",
       "                 ColumnTransformer(transformers=[(&#x27;num_pipe&#x27;,\n",
       "                                                  Pipeline(steps=[(&#x27;num_imputer&#x27;,\n",
       "                                                                   SimpleImputer()),\n",
       "                                                                  (&#x27;num_scalar&#x27;,\n",
       "                                                                   StandardScaler())]),\n",
       "                                                  [&#x27;symboling&#x27;,\n",
       "                                                   &#x27;normalized-losses&#x27;,\n",
       "                                                   &#x27;wheel-base&#x27;, &#x27;length&#x27;,\n",
       "                                                   &#x27;width&#x27;, &#x27;height&#x27;,\n",
       "                                                   &#x27;curb-weight&#x27;, &#x27;engine-size&#x27;,\n",
       "                                                   &#x27;bore&#x27;, &#x27;stroke&#x27;,\n",
       "                                                   &#x27;compression-ratio&#x27;,\n",
       "                                                   &#x27;horsepower&#x27;, &#x27;peak-rpm&#x27;,\n",
       "                                                   &#x27;city-mpg&#x27;, &#x27;highway-mpg&#x27;]),\n",
       "                                                 (&#x27;cat_pipe...\n",
       "                                                                  (&#x27;cat_ohe&#x27;,\n",
       "                                                                   OneHotEncoder(drop=&#x27;first&#x27;,\n",
       "                                                                                 handle_unknown=&#x27;ignore&#x27;,\n",
       "                                                                                 sparse=False))]),\n",
       "                                                  [&#x27;make&#x27;, &#x27;fuel-type&#x27;,\n",
       "                                                   &#x27;aspiration&#x27;, &#x27;num-of-doors&#x27;,\n",
       "                                                   &#x27;body-style&#x27;, &#x27;drive-wheels&#x27;,\n",
       "                                                   &#x27;engine-location&#x27;,\n",
       "                                                   &#x27;engine-type&#x27;,\n",
       "                                                   &#x27;num-of-cylinders&#x27;,\n",
       "                                                   &#x27;fuel-system&#x27;])])),\n",
       "                (&#x27;featute_selection&#x27;,\n",
       "                 SelectKBest(k=&#x27;all&#x27;,\n",
       "                             score_func=&lt;function f_regression at 0x0000018E92305550&gt;)),\n",
       "                (&#x27;model&#x27;, LinearRegression())])</pre></div></div></div><div class=\"sk-serial\"><div class=\"sk-item sk-dashed-wrapped\"><div class=\"sk-label-container\"><div class=\"sk-label sk-toggleable\"><input class=\"sk-toggleable__control sk-hidden--visually\" id=\"553c9551-a97d-4265-adfd-c740940debd2\" type=\"checkbox\" ><label for=\"553c9551-a97d-4265-adfd-c740940debd2\" class=\"sk-toggleable__label sk-toggleable__label-arrow\">col_trf: ColumnTransformer</label><div class=\"sk-toggleable__content\"><pre>ColumnTransformer(transformers=[(&#x27;num_pipe&#x27;,\n",
       "                                 Pipeline(steps=[(&#x27;num_imputer&#x27;,\n",
       "                                                  SimpleImputer()),\n",
       "                                                 (&#x27;num_scalar&#x27;,\n",
       "                                                  StandardScaler())]),\n",
       "                                 [&#x27;symboling&#x27;, &#x27;normalized-losses&#x27;,\n",
       "                                  &#x27;wheel-base&#x27;, &#x27;length&#x27;, &#x27;width&#x27;, &#x27;height&#x27;,\n",
       "                                  &#x27;curb-weight&#x27;, &#x27;engine-size&#x27;, &#x27;bore&#x27;,\n",
       "                                  &#x27;stroke&#x27;, &#x27;compression-ratio&#x27;, &#x27;horsepower&#x27;,\n",
       "                                  &#x27;peak-rpm&#x27;, &#x27;city-mpg&#x27;, &#x27;highway-mpg&#x27;]),\n",
       "                                (&#x27;cat_pipe&#x27;,\n",
       "                                 Pipeline(steps=[(&#x27;cat_imputer&#x27;,\n",
       "                                                  SimpleImputer(strategy=&#x27;most_frequent&#x27;)),\n",
       "                                                 (&#x27;cat_ohe&#x27;,\n",
       "                                                  OneHotEncoder(drop=&#x27;first&#x27;,\n",
       "                                                                handle_unknown=&#x27;ignore&#x27;,\n",
       "                                                                sparse=False))]),\n",
       "                                 [&#x27;make&#x27;, &#x27;fuel-type&#x27;, &#x27;aspiration&#x27;,\n",
       "                                  &#x27;num-of-doors&#x27;, &#x27;body-style&#x27;, &#x27;drive-wheels&#x27;,\n",
       "                                  &#x27;engine-location&#x27;, &#x27;engine-type&#x27;,\n",
       "                                  &#x27;num-of-cylinders&#x27;, &#x27;fuel-system&#x27;])])</pre></div></div></div><div class=\"sk-parallel\"><div class=\"sk-parallel-item\"><div class=\"sk-item\"><div class=\"sk-label-container\"><div class=\"sk-label sk-toggleable\"><input class=\"sk-toggleable__control sk-hidden--visually\" id=\"e7ea8206-fd25-4344-8cb4-d0a251747466\" type=\"checkbox\" ><label for=\"e7ea8206-fd25-4344-8cb4-d0a251747466\" class=\"sk-toggleable__label sk-toggleable__label-arrow\">num_pipe</label><div class=\"sk-toggleable__content\"><pre>[&#x27;symboling&#x27;, &#x27;normalized-losses&#x27;, &#x27;wheel-base&#x27;, &#x27;length&#x27;, &#x27;width&#x27;, &#x27;height&#x27;, &#x27;curb-weight&#x27;, &#x27;engine-size&#x27;, &#x27;bore&#x27;, &#x27;stroke&#x27;, &#x27;compression-ratio&#x27;, &#x27;horsepower&#x27;, &#x27;peak-rpm&#x27;, &#x27;city-mpg&#x27;, &#x27;highway-mpg&#x27;]</pre></div></div></div><div class=\"sk-serial\"><div class=\"sk-item\"><div class=\"sk-serial\"><div class=\"sk-item\"><div class=\"sk-estimator sk-toggleable\"><input class=\"sk-toggleable__control sk-hidden--visually\" id=\"20f8c80d-1939-4d62-affa-e9b83ba6cfed\" type=\"checkbox\" ><label for=\"20f8c80d-1939-4d62-affa-e9b83ba6cfed\" class=\"sk-toggleable__label sk-toggleable__label-arrow\">SimpleImputer</label><div class=\"sk-toggleable__content\"><pre>SimpleImputer()</pre></div></div></div><div class=\"sk-item\"><div class=\"sk-estimator sk-toggleable\"><input class=\"sk-toggleable__control sk-hidden--visually\" id=\"f8800cd2-3fa7-4b4a-8156-2b0a73e06a93\" type=\"checkbox\" ><label for=\"f8800cd2-3fa7-4b4a-8156-2b0a73e06a93\" class=\"sk-toggleable__label sk-toggleable__label-arrow\">StandardScaler</label><div class=\"sk-toggleable__content\"><pre>StandardScaler()</pre></div></div></div></div></div></div></div></div><div class=\"sk-parallel-item\"><div class=\"sk-item\"><div class=\"sk-label-container\"><div class=\"sk-label sk-toggleable\"><input class=\"sk-toggleable__control sk-hidden--visually\" id=\"03da6e36-67f8-47cb-918e-f0ed097e35d6\" type=\"checkbox\" ><label for=\"03da6e36-67f8-47cb-918e-f0ed097e35d6\" class=\"sk-toggleable__label sk-toggleable__label-arrow\">cat_pipe</label><div class=\"sk-toggleable__content\"><pre>[&#x27;make&#x27;, &#x27;fuel-type&#x27;, &#x27;aspiration&#x27;, &#x27;num-of-doors&#x27;, &#x27;body-style&#x27;, &#x27;drive-wheels&#x27;, &#x27;engine-location&#x27;, &#x27;engine-type&#x27;, &#x27;num-of-cylinders&#x27;, &#x27;fuel-system&#x27;]</pre></div></div></div><div class=\"sk-serial\"><div class=\"sk-item\"><div class=\"sk-serial\"><div class=\"sk-item\"><div class=\"sk-estimator sk-toggleable\"><input class=\"sk-toggleable__control sk-hidden--visually\" id=\"46016726-c6f5-4598-ad21-41f35c4fee3b\" type=\"checkbox\" ><label for=\"46016726-c6f5-4598-ad21-41f35c4fee3b\" class=\"sk-toggleable__label sk-toggleable__label-arrow\">SimpleImputer</label><div class=\"sk-toggleable__content\"><pre>SimpleImputer(strategy=&#x27;most_frequent&#x27;)</pre></div></div></div><div class=\"sk-item\"><div class=\"sk-estimator sk-toggleable\"><input class=\"sk-toggleable__control sk-hidden--visually\" id=\"81ba859c-b036-4c0c-9044-3efc2efa7be9\" type=\"checkbox\" ><label for=\"81ba859c-b036-4c0c-9044-3efc2efa7be9\" class=\"sk-toggleable__label sk-toggleable__label-arrow\">OneHotEncoder</label><div class=\"sk-toggleable__content\"><pre>OneHotEncoder(drop=&#x27;first&#x27;, handle_unknown=&#x27;ignore&#x27;, sparse=False)</pre></div></div></div></div></div></div></div></div></div></div><div class=\"sk-item\"><div class=\"sk-estimator sk-toggleable\"><input class=\"sk-toggleable__control sk-hidden--visually\" id=\"6aa4d9c6-71e5-4c25-9690-108010b3ec92\" type=\"checkbox\" ><label for=\"6aa4d9c6-71e5-4c25-9690-108010b3ec92\" class=\"sk-toggleable__label sk-toggleable__label-arrow\">SelectKBest</label><div class=\"sk-toggleable__content\"><pre>SelectKBest(k=&#x27;all&#x27;, score_func=&lt;function f_regression at 0x0000018E92305550&gt;)</pre></div></div></div><div class=\"sk-item\"><div class=\"sk-estimator sk-toggleable\"><input class=\"sk-toggleable__control sk-hidden--visually\" id=\"16d3de57-1ac5-48e4-a665-d55222f55ea0\" type=\"checkbox\" ><label for=\"16d3de57-1ac5-48e4-a665-d55222f55ea0\" class=\"sk-toggleable__label sk-toggleable__label-arrow\">LinearRegression</label><div class=\"sk-toggleable__content\"><pre>LinearRegression()</pre></div></div></div></div></div></div></div>"
      ],
      "text/plain": [
       "Pipeline(steps=[('col_trf',\n",
       "                 ColumnTransformer(transformers=[('num_pipe',\n",
       "                                                  Pipeline(steps=[('num_imputer',\n",
       "                                                                   SimpleImputer()),\n",
       "                                                                  ('num_scalar',\n",
       "                                                                   StandardScaler())]),\n",
       "                                                  ['symboling',\n",
       "                                                   'normalized-losses',\n",
       "                                                   'wheel-base', 'length',\n",
       "                                                   'width', 'height',\n",
       "                                                   'curb-weight', 'engine-size',\n",
       "                                                   'bore', 'stroke',\n",
       "                                                   'compression-ratio',\n",
       "                                                   'horsepower', 'peak-rpm',\n",
       "                                                   'city-mpg', 'highway-mpg']),\n",
       "                                                 ('cat_pipe...\n",
       "                                                                  ('cat_ohe',\n",
       "                                                                   OneHotEncoder(drop='first',\n",
       "                                                                                 handle_unknown='ignore',\n",
       "                                                                                 sparse=False))]),\n",
       "                                                  ['make', 'fuel-type',\n",
       "                                                   'aspiration', 'num-of-doors',\n",
       "                                                   'body-style', 'drive-wheels',\n",
       "                                                   'engine-location',\n",
       "                                                   'engine-type',\n",
       "                                                   'num-of-cylinders',\n",
       "                                                   'fuel-system'])])),\n",
       "                ('featute_selection',\n",
       "                 SelectKBest(k='all',\n",
       "                             score_func=<function f_regression at 0x0000018E92305550>)),\n",
       "                ('model', LinearRegression())])"
      ]
     },
     "execution_count": 18,
     "metadata": {},
     "output_type": "execute_result"
    }
   ],
   "source": [
    "final_pipe_1.fit(X_train, y_train)"
   ]
  },
  {
   "cell_type": "code",
   "execution_count": 19,
   "id": "f52b67fe-0545-4e78-b6c5-664251dafad9",
   "metadata": {},
   "outputs": [
    {
     "data": {
      "text/plain": [
       "array([ 7336.63797409, 28028.70180871,  6611.21305803,  7451.83163669,\n",
       "       12950.25422133,  5546.80588593, 43451.16323349,  9664.41584018,\n",
       "       16375.81039077, 32342.37565344, 25089.2624309 , 10372.67747163,\n",
       "       10590.65288478,  8137.22074311, 12278.20701751,  8324.57446504,\n",
       "       10129.73012638,  7196.03296648,  9048.79805029, 42355.88951909,\n",
       "       32528.        , 31202.99120283,  6784.82868948,  6986.44832993,\n",
       "       25918.00056665, 10229.10082694, 11012.40494085, 27864.45217064,\n",
       "       35665.55974908, 15357.25697481, 18245.80869764,  5652.75746405,\n",
       "       19343.16778198,  6762.29566849,  5081.32472447, 13783.0448426 ,\n",
       "        6484.26578837,  8115.63009491, 10961.15359863,  8659.64202142,\n",
       "       12860.25634444])"
      ]
     },
     "execution_count": 19,
     "metadata": {},
     "output_type": "execute_result"
    }
   ],
   "source": [
    "final_pipe_1.predict(X_test)"
   ]
  },
  {
   "cell_type": "code",
   "execution_count": 20,
   "id": "1e672678-f8e5-4b40-8263-da66b011d65d",
   "metadata": {},
   "outputs": [
    {
     "data": {
      "text/plain": [
       "0.9107122773565837"
      ]
     },
     "execution_count": 20,
     "metadata": {},
     "output_type": "execute_result"
    }
   ],
   "source": [
    "final_pipe_1.score(X_test, y_test)"
   ]
  }
 ],
 "metadata": {
  "kernelspec": {
   "display_name": "Python 3 (ipykernel)",
   "language": "python",
   "name": "python3"
  },
  "language_info": {
   "codemirror_mode": {
    "name": "ipython",
    "version": 3
   },
   "file_extension": ".py",
   "mimetype": "text/x-python",
   "name": "python",
   "nbconvert_exporter": "python",
   "pygments_lexer": "ipython3",
   "version": "3.9.12"
  }
 },
 "nbformat": 4,
 "nbformat_minor": 5
}
